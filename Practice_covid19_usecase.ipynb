{
 "cells": [
  {
   "cell_type": "code",
   "execution_count": null,
   "metadata": {},
   "outputs": [],
   "source": [
    "from urllib.request import urlopen\n",
    "import json\n",
    "#use the imported urlopen() function\n",
    "sock = urlopen(\"https://coronavirus-19-api.herokuapp.com/countries\")\n",
    "result = json.loads(sock.read())\n",
    "sock.close()\n",
    "\n",
    "print(\"Country list: \\n\")\n",
    "for element in result:\n",
    "    print(f'{element[\"country\"]}',end = \",\")\n",
    "\n",
    "print(\"\\n\")\n",
    "c_name = input(\"Input Country Name: \")       \n",
    "for element in result:\n",
    "    if(element[\"country\"] == c_name):                \n",
    "        for (i,j) in zip(element,element.keys()):\n",
    "                print(f'{j} : {element[i]}')\n",
    "        break"
   ]
  },
  {
   "cell_type": "code",
   "execution_count": null,
   "metadata": {},
   "outputs": [],
   "source": [
    "import matplotlib.pyplot as plt\n",
    "fig = plt.figure()\n",
    "ax = fig.add_axes([0,0,1,1])\n",
    "langs = ['C', 'C++', 'Java', 'Python', 'PHP']\n",
    "students = [23,17,35,29,12]\n",
    "ax.bar(langs,students)\n",
    "plt.show()"
   ]
  }
 ],
 "metadata": {
  "kernelspec": {
   "display_name": "Python 3",
   "language": "python",
   "name": "python3"
  },
  "language_info": {
   "codemirror_mode": {
    "name": "ipython",
    "version": 3
   },
   "file_extension": ".py",
   "mimetype": "text/x-python",
   "name": "python",
   "nbconvert_exporter": "python",
   "pygments_lexer": "ipython3",
   "version": "3.7.6"
  }
 },
 "nbformat": 4,
 "nbformat_minor": 4
}
