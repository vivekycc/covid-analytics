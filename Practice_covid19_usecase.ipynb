{
 "cells": [
  {
   "cell_type": "code",
   "execution_count": null,
   "metadata": {},
   "outputs": [
    {
     "name": "stdout",
     "output_type": "stream",
     "text": [
      "Country list: \n",
      "\n",
      "World,USA,Spain,UK,Italy,Russia,France,Germany,Brazil,Turkey,Iran,Canada,Peru,India,Belgium,Netherlands,Saudi Arabia,Mexico,Pakistan,Switzerland,Ecuador,Chile,Portugal,Sweden,Singapore,Ireland,Belarus,Qatar,UAE,Israel,Poland,Austria,Japan,Romania,Ukraine,Bangladesh,Indonesia,Colombia,S. Korea,Philippines,Denmark,Dominican Republic,Serbia,South Africa,Egypt,Kuwait,Panama,Czechia,Norway,Australia,Malaysia,Morocco,Argentina,Finland,Algeria,Kazakhstan,Bahrain,Moldova,Afghanistan,Nigeria,Ghana,Luxembourg,Oman,Armenia,Hungary,Thailand,Iraq,Greece,Cameroon,Bolivia,Azerbaijan,Uzbekistan,Croatia,Guinea,Bosnia and Herzegovina,Honduras,Bulgaria,Iceland,Cuba,Estonia,Senegal,Ivory Coast,North Macedonia,New Zealand,Lithuania,Slovenia,Slovakia,Sudan,Djibouti,Somalia,Guatemala,Hong Kong,Tunisia,Mayotte,Kyrgyzstan,DRC,El Salvador,Latvia,Cyprus,Albania,Sri Lanka,Lebanon,Maldives,Niger,Costa Rica,Andorra,Burkina Faso,Guinea-Bissau,Paraguay,Diamond Princess,Uruguay,Mali,Kenya,Gabon,Georgia,San Marino,Tajikistan,Channel Islands,Jordan,Tanzania,Jamaica,Malta,Taiwan,Equatorial Guinea,Réunion,Venezuela,Palestine,Mauritius,Isle of Man,Montenegro,Chad,Benin,Sierra Leone,Vietnam,Rwanda,Congo,Zambia,Cabo Verde,Ethiopia,Sao Tome and Principe,Liberia,Madagascar,Martinique,Faeroe Islands,Haiti,Myanmar,Togo,Eswatini,Guadeloupe,Gibraltar,French Guiana,CAR,Brunei,Cambodia,Uganda,Nepal,South Sudan,Bermuda,Trinidad and Tobago,Guyana,Aruba,Monaco,Bahamas,Mozambique,Barbados,Liechtenstein,Cayman Islands,Sint Maarten,Libya,French Polynesia,Malawi,Yemen,Syria,Angola,Macao,Mongolia,Saint Martin,Eritrea,Zimbabwe,Antigua and Barbuda,Timor-Leste,Botswana,Grenada,Gambia,Laos,Belize,Fiji,New Caledonia,Saint Lucia,St. Vincent Grenadines,Nicaragua,Curaçao,Dominica,Namibia,Burundi,Saint Kitts and Nevis,Falkland Islands,Turks and Caicos,Vatican City,Comoros,Montserrat,Greenland,Seychelles,Suriname,MS Zaandam,Bhutan,Mauritania,Papua New Guinea,British Virgin Islands,Caribbean Netherlands,St. Barth,Western Sahara,Anguilla,Saint Pierre Miquelon,China,\n",
      "\n"
     ]
    }
   ],
   "source": [
    "from urllib.request import urlopen\n",
    "import json\n",
    "#use the imported urlopen() function\n",
    "sock = urlopen(\"https://coronavirus-19-api.herokuapp.com/countries\")\n",
    "result = json.loads(sock.read())\n",
    "sock.close()\n",
    "\n",
    "print(\"Country list: \\n\")\n",
    "for element in result:\n",
    "    print(f'{element[\"country\"]}',end = \",\")\n",
    "\n",
    "print(\"\\n\")\n",
    "c_name = input(\"Input Country Name: \")       \n",
    "for element in result:\n",
    "    if(element[\"country\"] == c_name):                \n",
    "        for (i,j) in zip(element,element.keys()):\n",
    "                print(f'{j} : {element[i]}')\n",
    "        break"
   ]
  },
  {
   "cell_type": "markdown",
   "metadata": {},
   "source": [
    "# Look below code\n",
    "noet- I want to create list of list with Covid name. \n",
    "templist is a list extracted from result."
   ]
  },
  {
   "cell_type": "code",
   "execution_count": null,
   "metadata": {},
   "outputs": [],
   "source": [
    "from urllib.request import urlopen\n",
    "import json\n",
    "#use the imported urlopen() function\n",
    "sock = urlopen(\"https://coronavirus-19-api.herokuapp.com/countries\")\n",
    "result = json.loads(sock.read())\n",
    "sock.close()\n",
    "templist = []\n",
    "covid = [\n",
    "\n",
    "for element in result:\n",
    "    templist.clear()\n",
    "    for key in element.keys():\n",
    "        templist.append(element[key])\n",
    "#     print(f'temp {templist}')\n",
    "    covid.append(templist)\n",
    "\n",
    "print(f'Covid list:\\n {covid}') "
   ]
  },
  {
   "cell_type": "code",
   "execution_count": null,
   "metadata": {},
   "outputs": [],
   "source": []
  },
  {
   "cell_type": "code",
   "execution_count": null,
   "metadata": {},
   "outputs": [],
   "source": [
    "import matplotlib.pyplot as plt\n",
    "fig = plt.figure()\n",
    "ax = fig.add_axes([0,0,1,1])\n",
    "langs = ['C', 'C++', 'Java', 'Python', 'PHP']\n",
    "students = [23,17,35,29,12]\n",
    "ax.bar(langs,students)\n",
    "plt.show()"
   ]
  }
 ],
 "metadata": {
  "kernelspec": {
   "display_name": "Python 3",
   "language": "python",
   "name": "python3"
  },
  "language_info": {
   "codemirror_mode": {
    "name": "ipython",
    "version": 3
   },
   "file_extension": ".py",
   "mimetype": "text/x-python",
   "name": "python",
   "nbconvert_exporter": "python",
   "pygments_lexer": "ipython3",
   "version": "3.7.6"
  }
 },
 "nbformat": 4,
 "nbformat_minor": 4
}
